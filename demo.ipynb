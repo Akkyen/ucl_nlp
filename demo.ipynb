{
 "cells": [
  {
   "cell_type": "markdown",
   "metadata": {
    "collapsed": true,
    "pycharm": {
     "name": "#%% md\n"
    }
   },
   "source": [
    "# UCL-COMP0087 Project"
   ]
  },
  {
   "cell_type": "code",
   "source": [
    "# setup\n",
    "#TODO: cd to current directory\n",
    "!bash pull_data.sh"
   ],
   "metadata": {
    "collapsed": false,
    "pycharm": {
     "name": "#%%\n"
    }
   },
   "execution_count": null,
   "outputs": []
  },
  {
   "cell_type": "markdown",
   "source": [
    "## A.DATA preprocessing\n",
    "### 1) JSON->bin\n",
    "Preprocess .json format Conala data and save processed .bin file to\n",
    "#TODO: Understand preprocessing details"
   ],
   "metadata": {
    "collapsed": false,
    "pycharm": {
     "name": "#%% md\n"
    }
   }
  },
  {
   "cell_type": "code",
   "execution_count": 1,
   "outputs": [
    {
     "name": "stdout",
     "output_type": "stream",
     "text": [
      "process gold training data...\r\n",
      "Skipped due to exceptions: 4\r\n",
      "use mined data:  10\r\n",
      "from file:  data/conala-corpus/conala-mined.jsonl\r\n",
      "Skipped due to exceptions: 0\r\n",
      "2185 training instances\r\n",
      "200 dev instances\r\n",
      "process testing data...\r\n",
      "Skipped due to exceptions: 0\r\n",
      "500 testing instances\r\n",
      "number of word types: 1611, number of word types w/ frequency > 1: 846\r\n",
      "number of singletons:  765\r\n",
      "number of words not included: 986\r\n",
      "total token count:  22275\r\n",
      "unk token count:  1207\r\n",
      "number of word types: 1709, number of word types w/ frequency > 1: 679\r\n",
      "number of singletons:  1030\r\n",
      "number of words not included: 1249\r\n",
      "total token count:  14410\r\n",
      "unk token count:  1468\r\n",
      "number of word types: 1670, number of word types w/ frequency > 1: 685\r\n",
      "number of singletons:  985\r\n",
      "number of words not included: 1188\r\n",
      "total token count:  34939\r\n",
      "unk token count:  1391\r\n",
      "generated vocabulary Vocab(source Vocabulary[size=629]words, primitive Vocabulary[size=464]words, code Vocabulary[size=486]words)\r\n",
      "Max action len: 96\r\n",
      "Avg action len: 23\r\n",
      "Actions larger than 100: 0\r\n"
     ]
    }
   ],
   "source": [
    "mined_data_file = \"data/conala-corpus/conala-mined.jsonl\"\n",
    "topk = 10\n",
    "!python datasets/conala/dataset.py --pretrain=$mined_data_file --topk=$topk"
   ],
   "metadata": {
    "collapsed": false,
    "pycharm": {
     "name": "#%%\n"
    }
   }
  }
 ],
 "metadata": {
  "kernelspec": {
   "display_name": "Python 3",
   "language": "python",
   "name": "python3"
  },
  "language_info": {
   "codemirror_mode": {
    "name": "ipython",
    "version": 2
   },
   "file_extension": ".py",
   "mimetype": "text/x-python",
   "name": "python",
   "nbconvert_exporter": "python",
   "pygments_lexer": "ipython2",
   "version": "2.7.6"
  }
 },
 "nbformat": 4,
 "nbformat_minor": 0
}